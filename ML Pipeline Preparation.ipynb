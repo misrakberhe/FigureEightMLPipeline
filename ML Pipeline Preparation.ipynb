{
 "cells": [
  {
   "cell_type": "markdown",
   "metadata": {},
   "source": [
    "# ML Pipeline Preparation\n",
    "Follow the instructions below to help you create your ML pipeline.\n",
    "### 1. Import libraries and load data from database.\n",
    "- Import Python libraries\n",
    "- Load dataset from database with [`read_sql_table`](https://pandas.pydata.org/pandas-docs/stable/generated/pandas.read_sql_table.html)\n",
    "- Define feature and target variables X and Y"
   ]
  },
  {
   "cell_type": "code",
   "execution_count": 2,
   "metadata": {},
   "outputs": [
    {
     "name": "stdout",
     "output_type": "stream",
     "text": [
      "[nltk_data] Downloading package punkt to /root/nltk_data...\n",
      "[nltk_data]   Unzipping tokenizers/punkt.zip.\n",
      "[nltk_data] Downloading package wordnet to /root/nltk_data...\n",
      "[nltk_data]   Unzipping corpora/wordnet.zip.\n"
     ]
    },
    {
     "data": {
      "text/plain": [
       "True"
      ]
     },
     "execution_count": 2,
     "metadata": {},
     "output_type": "execute_result"
    }
   ],
   "source": [
    "# import libraries\n",
    "import pandas as pd\n",
    "from sqlalchemy import create_engine\n",
    "\n",
    "from nltk.tokenize import word_tokenize\n",
    "from nltk.stem import WordNetLemmatizer\n",
    "from sklearn.feature_extraction.text import CountVectorizer, TfidfTransformer\n",
    "\n",
    "from sklearn.multioutput import MultiOutputClassifier\n",
    "from sklearn.ensemble import RandomForestClassifier\n",
    "from sklearn.model_selection import train_test_split\n",
    "from sklearn.pipeline import Pipeline, FeatureUnion\n",
    "from sklearn.metrics import classification_report, accuracy_score\n",
    "from sklearn.model_selection import GridSearchCV\n",
    "from sklearn.neighbors import KNeighborsClassifier\n",
    "\n",
    "import nltk\n",
    "nltk.download(['punkt', 'wordnet'])"
   ]
  },
  {
   "cell_type": "code",
   "execution_count": 3,
   "metadata": {},
   "outputs": [],
   "source": [
    "# load data from database\n",
    "engine = create_engine('sqlite:///InsertDatabaseName.db')\n",
    "df = pd.read_sql_table('InsertTableName', con=engine)\n"
   ]
  },
  {
   "cell_type": "code",
   "execution_count": 4,
   "metadata": {},
   "outputs": [],
   "source": [
    "df = df.dropna(thresh=10).drop(['original', 'child_alone'], axis=1)"
   ]
  },
  {
   "cell_type": "code",
   "execution_count": 5,
   "metadata": {},
   "outputs": [],
   "source": [
    "X = df.iloc[:,1]\n",
    "y = df.iloc[:,5:]"
   ]
  },
  {
   "cell_type": "code",
   "execution_count": 6,
   "metadata": {},
   "outputs": [
    {
     "name": "stdout",
     "output_type": "stream",
     "text": [
      "offer\n",
      "[ 0.  1.]\n",
      "aid_related\n",
      "[ 0.  1.]\n",
      "medical_help\n",
      "[ 0.  1.]\n",
      "medical_products\n",
      "[ 0.  1.]\n",
      "search_and_rescue\n",
      "[ 0.  1.]\n",
      "security\n",
      "[ 0.  1.]\n",
      "military\n",
      "[ 0.  1.]\n",
      "water\n",
      "[ 0.  1.]\n",
      "food\n",
      "[ 0.  1.]\n",
      "shelter\n",
      "[ 0.  1.]\n",
      "clothing\n",
      "[ 0.  1.]\n",
      "money\n",
      "[ 0.  1.]\n",
      "missing_people\n",
      "[ 0.  1.]\n",
      "refugees\n",
      "[ 0.  1.]\n",
      "death\n",
      "[ 0.  1.]\n",
      "other_aid\n",
      "[ 0.  1.]\n",
      "infrastructure_related\n",
      "[ 0.  1.]\n",
      "transport\n",
      "[ 0.  1.]\n",
      "buildings\n",
      "[ 0.  1.]\n",
      "electricity\n",
      "[ 0.  1.]\n",
      "tools\n",
      "[ 0.  1.]\n",
      "hospitals\n",
      "[ 0.  1.]\n",
      "shops\n",
      "[ 0.  1.]\n",
      "aid_centers\n",
      "[ 0.  1.]\n",
      "other_infrastructure\n",
      "[ 0.  1.]\n",
      "weather_related\n",
      "[ 0.  1.]\n",
      "floods\n",
      "[ 0.  1.]\n",
      "storm\n",
      "[ 0.  1.]\n",
      "fire\n",
      "[ 0.  1.]\n",
      "earthquake\n",
      "[ 0.  1.]\n",
      "cold\n",
      "[ 0.  1.]\n",
      "other_weather\n",
      "[ 0.  1.]\n",
      "direct_report\n",
      "[ 0.  1.]\n"
     ]
    }
   ],
   "source": [
    "for i in y.columns:\n",
    "    print (i)\n",
    "    print (y[i].unique())"
   ]
  },
  {
   "cell_type": "markdown",
   "metadata": {},
   "source": [
    "### 2. Write a tokenization function to process your text data"
   ]
  },
  {
   "cell_type": "code",
   "execution_count": 7,
   "metadata": {},
   "outputs": [],
   "source": [
    "def tokenize(text):\n",
    "    \n",
    "    tokens = word_tokenize(text)\n",
    "    lemmatizer = WordNetLemmatizer()\n",
    "\n",
    "    clean_tokens = []\n",
    "    for tok in tokens:\n",
    "        clean_tok = lemmatizer.lemmatize(tok).lower().strip()\n",
    "        clean_tokens.append(clean_tok)\n",
    "\n",
    "    return clean_tokens\n",
    "    \n",
    "    "
   ]
  },
  {
   "cell_type": "markdown",
   "metadata": {},
   "source": [
    "### 3. Build a machine learning pipeline\n",
    "This machine pipeline should take in the `message` column as input and output classification results on the other 36 categories in the dataset. You may find the [MultiOutputClassifier](http://scikit-learn.org/stable/modules/generated/sklearn.multioutput.MultiOutputClassifier.html) helpful for predicting multiple target variables."
   ]
  },
  {
   "cell_type": "code",
   "execution_count": 8,
   "metadata": {},
   "outputs": [],
   "source": [
    "def model_pipeline(x):\n",
    "\n",
    "    pipeline = Pipeline([\n",
    "        ('vect', CountVectorizer(tokenizer=tokenize)),\n",
    "        ('tfidf', TfidfTransformer()),\n",
    "        ('clf', MultiOutputClassifier(x, n_jobs=-1))\n",
    "    ])\n",
    "\n",
    "    return pipeline"
   ]
  },
  {
   "cell_type": "markdown",
   "metadata": {},
   "source": [
    "### 4. Train pipeline\n",
    "- Split data into train and test sets\n",
    "- Train pipeline"
   ]
  },
  {
   "cell_type": "code",
   "execution_count": 11,
   "metadata": {},
   "outputs": [
    {
     "data": {
      "text/plain": [
       "Pipeline(memory=None,\n",
       "     steps=[('vect', CountVectorizer(analyzer='word', binary=False, decode_error='strict',\n",
       "        dtype=<class 'numpy.int64'>, encoding='utf-8', input='content',\n",
       "        lowercase=True, max_df=1.0, max_features=None, min_df=1,\n",
       "        ngram_range=(1, 1), preprocessor=None, stop_words=None,\n",
       "        strip..._params=None, n_jobs=-1, n_neighbors=10, p=2,\n",
       "           weights='uniform'),\n",
       "           n_jobs=-1))])"
      ]
     },
     "execution_count": 11,
     "metadata": {},
     "output_type": "execute_result"
    }
   ],
   "source": [
    "X_train, X_test, y_train, y_test = train_test_split(X, y)\n",
    "\n",
    "model = model_pipeline(KNeighborsClassifier(n_neighbors=10, n_jobs=-1))\n",
    "model.fit(X_train, y_train)\n"
   ]
  },
  {
   "cell_type": "markdown",
   "metadata": {},
   "source": [
    "### 5. Test your model\n",
    "Report the f1 score, precision and recall for each output category of the dataset. You can do this by iterating through the columns and calling sklearn's `classification_report` on each."
   ]
  },
  {
   "cell_type": "code",
   "execution_count": 10,
   "metadata": {},
   "outputs": [
    {
     "name": "stdout",
     "output_type": "stream",
     "text": [
      "                        precision    recall  f1-score   support\n",
      "\n",
      "                 offer       0.00      0.00      0.00        25\n",
      "           aid_related       0.46      0.12      0.19      2693\n",
      "          medical_help       0.00      0.00      0.00       516\n",
      "      medical_products       0.00      0.00      0.00       336\n",
      "     search_and_rescue       0.00      0.00      0.00       178\n",
      "              security       0.00      0.00      0.00       120\n",
      "              military       0.00      0.00      0.00       202\n",
      "                 water       0.00      0.00      0.00       411\n",
      "                  food       0.50      0.00      0.01       740\n",
      "               shelter       0.00      0.00      0.00       558\n",
      "              clothing       0.00      0.00      0.00       112\n",
      "                 money       0.00      0.00      0.00       160\n",
      "        missing_people       0.00      0.00      0.00        64\n",
      "              refugees       0.00      0.00      0.00       202\n",
      "                 death       0.00      0.00      0.00       267\n",
      "             other_aid       0.00      0.00      0.00       913\n",
      "infrastructure_related       0.00      0.00      0.00       433\n",
      "             transport       0.00      0.00      0.00       303\n",
      "             buildings       0.00      0.00      0.00       319\n",
      "           electricity       0.00      0.00      0.00       122\n",
      "                 tools       0.00      0.00      0.00        46\n",
      "             hospitals       0.00      0.00      0.00        69\n",
      "                 shops       0.00      0.00      0.00        30\n",
      "           aid_centers       0.00      0.00      0.00        83\n",
      "  other_infrastructure       0.00      0.00      0.00       290\n",
      "       weather_related       0.60      0.14      0.23      1817\n",
      "                floods       0.00      0.00      0.00       540\n",
      "                 storm       0.57      0.04      0.07       594\n",
      "                  fire       0.00      0.00      0.00        65\n",
      "            earthquake       0.84      0.14      0.24       626\n",
      "                  cold       0.00      0.00      0.00       145\n",
      "         other_weather       0.00      0.00      0.00       346\n",
      "         direct_report       0.39      0.05      0.09      1240\n",
      "\n",
      "           avg / total       0.28      0.05      0.08     14565\n",
      "\n",
      "0.385378510379\n"
     ]
    },
    {
     "name": "stderr",
     "output_type": "stream",
     "text": [
      "/opt/conda/lib/python3.6/site-packages/sklearn/metrics/classification.py:1135: UndefinedMetricWarning: Precision and F-score are ill-defined and being set to 0.0 in labels with no predicted samples.\n",
      "  'precision', 'predicted', average, warn_for)\n"
     ]
    }
   ],
   "source": [
    "y_pred = model.predict(X_test)\n",
    "print (classification_report(y_test, y_pred, target_names=y.columns))\n",
    "print (accuracy_score(y_test, y_pred))"
   ]
  },
  {
   "cell_type": "markdown",
   "metadata": {},
   "source": [
    "### 6. Improve your model\n",
    "Use grid search to find better parameters. "
   ]
  },
  {
   "cell_type": "code",
   "execution_count": 10,
   "metadata": {},
   "outputs": [
    {
     "data": {
      "text/plain": [
       "['clf',\n",
       " 'clf__estimator',\n",
       " 'clf__estimator__algorithm',\n",
       " 'clf__estimator__leaf_size',\n",
       " 'clf__estimator__metric',\n",
       " 'clf__estimator__metric_params',\n",
       " 'clf__estimator__n_jobs',\n",
       " 'clf__estimator__n_neighbors',\n",
       " 'clf__estimator__p',\n",
       " 'clf__estimator__weights',\n",
       " 'clf__n_jobs',\n",
       " 'memory',\n",
       " 'steps',\n",
       " 'tfidf',\n",
       " 'tfidf__norm',\n",
       " 'tfidf__smooth_idf',\n",
       " 'tfidf__sublinear_tf',\n",
       " 'tfidf__use_idf',\n",
       " 'vect',\n",
       " 'vect__analyzer',\n",
       " 'vect__binary',\n",
       " 'vect__decode_error',\n",
       " 'vect__dtype',\n",
       " 'vect__encoding',\n",
       " 'vect__input',\n",
       " 'vect__lowercase',\n",
       " 'vect__max_df',\n",
       " 'vect__max_features',\n",
       " 'vect__min_df',\n",
       " 'vect__ngram_range',\n",
       " 'vect__preprocessor',\n",
       " 'vect__stop_words',\n",
       " 'vect__strip_accents',\n",
       " 'vect__token_pattern',\n",
       " 'vect__tokenizer',\n",
       " 'vect__vocabulary']"
      ]
     },
     "execution_count": 10,
     "metadata": {},
     "output_type": "execute_result"
    }
   ],
   "source": [
    "sorted(model_pipeline(KNeighborsClassifier()).get_params().keys())"
   ]
  },
  {
   "cell_type": "code",
   "execution_count": 22,
   "metadata": {},
   "outputs": [
    {
     "name": "stdout",
     "output_type": "stream",
     "text": [
      "Fitting 2 folds for each of 2 candidates, totalling 4 fits\n",
      "[CV] clf__estimator__n_neighbors=1 ...................................\n",
      "[CV]  clf__estimator__n_neighbors=1, score=0.23901098901098902, total= 4.4min\n"
     ]
    },
    {
     "name": "stderr",
     "output_type": "stream",
     "text": [
      "[Parallel(n_jobs=1)]: Done   1 out of   1 | elapsed:  8.2min remaining:    0.0s\n"
     ]
    },
    {
     "name": "stdout",
     "output_type": "stream",
     "text": [
      "[CV] clf__estimator__n_neighbors=1 ...................................\n",
      "[CV]  clf__estimator__n_neighbors=1, score=0.20433499542077949, total= 3.8min\n",
      "[CV] clf__estimator__n_neighbors=10 ..................................\n"
     ]
    },
    {
     "name": "stderr",
     "output_type": "stream",
     "text": [
      "[Parallel(n_jobs=1)]: Done   2 out of   2 | elapsed: 15.7min remaining:    0.0s\n"
     ]
    },
    {
     "name": "stdout",
     "output_type": "stream",
     "text": [
      "[CV]  clf__estimator__n_neighbors=10, score=0.3664021164021164, total= 4.3min\n",
      "[CV] clf__estimator__n_neighbors=10 ..................................\n"
     ]
    },
    {
     "name": "stderr",
     "output_type": "stream",
     "text": [
      "[Parallel(n_jobs=1)]: Done   3 out of   3 | elapsed: 24.3min remaining:    0.0s\n"
     ]
    },
    {
     "name": "stdout",
     "output_type": "stream",
     "text": [
      "[CV]  clf__estimator__n_neighbors=10, score=0.37193446626640886, total= 4.3min\n"
     ]
    },
    {
     "name": "stderr",
     "output_type": "stream",
     "text": [
      "[Parallel(n_jobs=1)]: Done   4 out of   4 | elapsed: 32.8min remaining:    0.0s\n",
      "[Parallel(n_jobs=1)]: Done   4 out of   4 | elapsed: 32.8min finished\n"
     ]
    },
    {
     "data": {
      "text/plain": [
       "GridSearchCV(cv=2, error_score='raise',\n",
       "       estimator=Pipeline(memory=None,\n",
       "     steps=[('vect', CountVectorizer(analyzer='word', binary=False, decode_error='strict',\n",
       "        dtype=<class 'numpy.int64'>, encoding='utf-8', input='content',\n",
       "        lowercase=True, max_df=1.0, max_features=None, min_df=1,\n",
       "        ngram_range=(1, 1), preprocessor=None, stop_words=None,\n",
       "        strip...c_params=None, n_jobs=-1, n_neighbors=5, p=2,\n",
       "           weights='uniform'),\n",
       "           n_jobs=-1))]),\n",
       "       fit_params=None, iid=True, n_jobs=1,\n",
       "       param_grid={'clf__estimator__n_neighbors': [1, 10]},\n",
       "       pre_dispatch='2*n_jobs', refit=True, return_train_score='warn',\n",
       "       scoring=None, verbose=10)"
      ]
     },
     "execution_count": 22,
     "metadata": {},
     "output_type": "execute_result"
    }
   ],
   "source": [
    "\n",
    "parameters = {'clf__estimator__n_neighbors': [1,10]\n",
    "             }\n",
    "             \n",
    "cv = GridSearchCV(model_pipeline(KNeighborsClassifier(n_jobs=-1)), param_grid=parameters, verbose=10, cv=2)\n",
    "cv.fit(X_train, y_train)"
   ]
  },
  {
   "cell_type": "markdown",
   "metadata": {},
   "source": [
    "### 7. Test your model\n",
    "Show the accuracy, precision, and recall of the tuned model.  \n",
    "\n",
    "Since this project focuses on code quality, process, and  pipelines, there is no minimum performance metric needed to pass. However, make sure to fine tune your models for accuracy, precision and recall to make your project stand out - especially for your portfolio!"
   ]
  },
  {
   "cell_type": "code",
   "execution_count": 23,
   "metadata": {},
   "outputs": [
    {
     "name": "stdout",
     "output_type": "stream",
     "text": [
      "                        precision    recall  f1-score   support\n",
      "\n",
      "                 offer       0.00      0.00      0.00        33\n",
      "           aid_related       0.47      0.16      0.24      2728\n",
      "          medical_help       0.00      0.00      0.00       501\n",
      "      medical_products       0.00      0.00      0.00       344\n",
      "     search_and_rescue       0.00      0.00      0.00       187\n",
      "              security       0.00      0.00      0.00       123\n",
      "              military       0.00      0.00      0.00       219\n",
      "                 water       0.00      0.00      0.00       404\n",
      "                  food       0.20      0.00      0.01       753\n",
      "               shelter       0.00      0.00      0.00       563\n",
      "              clothing       0.00      0.00      0.00       106\n",
      "                 money       0.00      0.00      0.00       158\n",
      "        missing_people       0.00      0.00      0.00        81\n",
      "              refugees       0.00      0.00      0.00       213\n",
      "                 death       0.00      0.00      0.00       297\n",
      "             other_aid       0.00      0.00      0.00       847\n",
      "infrastructure_related       0.00      0.00      0.00       421\n",
      "             transport       0.00      0.00      0.00       309\n",
      "             buildings       0.00      0.00      0.00       341\n",
      "           electricity       0.00      0.00      0.00       144\n",
      "                 tools       0.00      0.00      0.00        43\n",
      "             hospitals       0.00      0.00      0.00        82\n",
      "                 shops       0.00      0.00      0.00        32\n",
      "           aid_centers       0.00      0.00      0.00        69\n",
      "  other_infrastructure       0.00      0.00      0.00       282\n",
      "       weather_related       0.53      0.07      0.12      1818\n",
      "                floods       0.00      0.00      0.00       542\n",
      "                 storm       0.80      0.01      0.01       614\n",
      "                  fire       0.00      0.00      0.00        60\n",
      "            earthquake       0.73      0.08      0.15       612\n",
      "                  cold       0.00      0.00      0.00       155\n",
      "         other_weather       0.00      0.00      0.00       352\n",
      "         direct_report       0.32      0.08      0.13      1245\n",
      "\n",
      "           avg / total       0.25      0.05      0.08     14678\n",
      "\n",
      "0.371336996337\n"
     ]
    },
    {
     "name": "stderr",
     "output_type": "stream",
     "text": [
      "/opt/conda/lib/python3.6/site-packages/sklearn/metrics/classification.py:1135: UndefinedMetricWarning: Precision and F-score are ill-defined and being set to 0.0 in labels with no predicted samples.\n",
      "  'precision', 'predicted', average, warn_for)\n"
     ]
    }
   ],
   "source": [
    "\n",
    "y_pred = cv.predict(X_test)\n",
    "\n",
    "print (classification_report(y_test, y_pred, target_names=y.columns))\n",
    "print (accuracy_score(y_test, y_pred))"
   ]
  },
  {
   "cell_type": "markdown",
   "metadata": {},
   "source": [
    "### 8. Try improving your model further. Here are a few ideas:\n",
    "* try other machine learning algorithms\n",
    "* add other features besides the TF-IDF"
   ]
  },
  {
   "cell_type": "code",
   "execution_count": 1,
   "metadata": {},
   "outputs": [
    {
     "data": {
      "text/plain": [
       "'I tried RandomForestClassifier first, it gave me 35% with a low recall.'"
      ]
     },
     "execution_count": 1,
     "metadata": {},
     "output_type": "execute_result"
    }
   ],
   "source": [
    "'''I tried RandomForestClassifier first, it gave me 35% with a low recall.'''\n"
   ]
  },
  {
   "cell_type": "code",
   "execution_count": null,
   "metadata": {},
   "outputs": [],
   "source": []
  },
  {
   "cell_type": "markdown",
   "metadata": {},
   "source": [
    "### 9. Export your model as a pickle file"
   ]
  },
  {
   "cell_type": "code",
   "execution_count": 13,
   "metadata": {},
   "outputs": [],
   "source": [
    "import pickle\n",
    "filename = 'classifier.pkl'\n",
    "pickle.dump(model, open(filename, 'wb'))"
   ]
  },
  {
   "cell_type": "markdown",
   "metadata": {},
   "source": [
    "### 10. Use this notebook to complete `train.py`\n",
    "Use the template file attached in the Resources folder to write a script that runs the steps above to create a database and export a model based on a new dataset specified by the user."
   ]
  },
  {
   "cell_type": "code",
   "execution_count": null,
   "metadata": {},
   "outputs": [],
   "source": []
  }
 ],
 "metadata": {
  "kernelspec": {
   "display_name": "Python 3",
   "language": "python",
   "name": "python3"
  },
  "language_info": {
   "codemirror_mode": {
    "name": "ipython",
    "version": 3
   },
   "file_extension": ".py",
   "mimetype": "text/x-python",
   "name": "python",
   "nbconvert_exporter": "python",
   "pygments_lexer": "ipython3",
   "version": "3.6.3"
  }
 },
 "nbformat": 4,
 "nbformat_minor": 2
}
